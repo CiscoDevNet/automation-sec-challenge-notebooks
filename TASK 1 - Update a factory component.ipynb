{
 "cells": [
  {
   "cell_type": "markdown",
   "metadata": {},
   "source": [
    "# TASK 1\n",
    "\n",
    "## Task: Update a factory automation component\n",
    "\n",
    "Welcome to your first task as the factory automation operator!\n",
    "\n",
    "We currently have a Cisco Kinetic EFM instance running in our factory edge. It's already pulling data from our 3D printer for monitoring and control perposes.\n",
    "\n",
    "<Image of Cisco EFM Designer>\n",
    "\n",
    "We have a new version that provides new features and needed functionality for the business, in our case, a brand new monitoring dashboard for the factory floor team.\n",
    "\n",
    "Lets upgrade our component using the Kubernetes API!\n",
    "\n",
    "## How to play\n",
    "\n",
    "Some input below will be needed, fields may be missing, read the comments to work out what needs completing to sucessfully remediate the issue!\n",
    "\n",
    "To run a block of code below, hold SHIFT+ENTER. \n",
    "NO NEW LINES OF CODE ARE NEEDED, WE'RE NOT THAT MEAN!\n"
   ]
  },
  {
   "cell_type": "code",
   "execution_count": 8,
   "metadata": {},
   "outputs": [
    {
     "name": "stdout",
     "output_type": "stream",
     "text": [
      "env: CRED_API_IP=10.10.20.110\n",
      "env: CCP_API_USER=factory-RDRLW\n",
      "env: CCP_API_PASSWORD=factory-RDRLW\n",
      "env: CCP_API_IP=10.10.20.209\n"
     ]
    }
   ],
   "source": [
    "# First things first! We need to ask CCP for access credentials to our new cluster.\n",
    "# Theres an API for this, as long as you have permission!\n",
    "%env CRED_API_IP=10.10.20.110\n",
    "\n",
    "# Here, we'll need your details from green box on the challenge homepage!\n",
    "%env CCP_API_USER=factory-RDRLW\n",
    "%env CCP_API_PASSWORD=factory-RDRLW \n",
    "%env CCP_API_IP=10.10.20.209\n",
    "\n",
    "# Shift + Enter to run this section, we're just setting those variables for later!"
   ]
  },
  {
   "cell_type": "code",
   "execution_count": 9,
   "metadata": {},
   "outputs": [
    {
     "name": "stdout",
     "output_type": "stream",
     "text": [
      "Get the cluster UUID for factory-RDRLW :\n",
      "ce52952e-721e-460e-8371-7778abc2290b\n"
     ]
    },
    {
     "name": "stderr",
     "output_type": "stream",
     "text": [
      "mkdir: cannot create directory ‘./temp’: File exists\n",
      "mkdir: cannot create directory ‘/home/automationchallenge/.kube/’: File exists\n",
      "  % Total    % Received % Xferd  Average Speed   Time    Time     Time  Current\n",
      "                                 Dload  Upload   Total   Spent    Left  Speed\n",
      "\r",
      "  0     0    0     0    0     0      0      0 --:--:-- --:--:-- --:--:--     0\r",
      "100    45    0     0  100    45      0    169 --:--:-- --:--:-- --:--:--   170\n",
      "  % Total    % Received % Xferd  Average Speed   Time    Time     Time  Current\n",
      "                                 Dload  Upload   Total   Spent    Left  Speed\n",
      "\r",
      "  0     0    0     0    0     0      0      0 --:--:-- --:--:-- --:--:--     0\r",
      "100  3907    0  3907    0     0   5669      0 --:--:-- --:--:-- --:--:--  5662\r",
      "100  8796    0  8796    0     0  12016      0 --:--:-- --:--:-- --:--:-- 12016\n",
      "  % Total    % Received % Xferd  Average Speed   Time    Time     Time  Current\n",
      "                                 Dload  Upload   Total   Spent    Left  Speed\n",
      "\r",
      "  0     0    0     0    0     0      0      0 --:--:-- --:--:-- --:--:--     0\r",
      "100  4090    0  4090    0     0   3410      0 --:--:--  0:00:01 --:--:--  3411\r",
      "100  6341    0  6341    0     0   5107      0 --:--:--  0:00:01 --:--:--  5109\n"
     ]
    }
   ],
   "source": [
    "%%bash\n",
    "mkdir ./temp ~/.kube/\n",
    "\n",
    "# Authenticating to the Kubernetes API.\n",
    "# Finding cluster ID using NAME.\n",
    "# Pulling KubeConfig and Kubernetes API endpoint details.\n",
    "\n",
    "# Auth to CCP API as new user, get auth token as cookie.\"\n",
    "curl -k -c ./temp/cookie.txt -H \"Content-Type:application/x-www-form-urlencoded\" -d \"username=$CCP_API_USER&password=$CCP_API_PASSWORD\" https://${CRED_API_IP}/2/system/login/\n",
    "\n",
    "echo \"Get the cluster UUID for ${CCP_API_USER} :\"\n",
    "cluster_uuid=`curl -k -b ./temp/cookie.txt https://${CRED_API_IP}/2/clusters| jq -r '.[]|.name, .uuid' | grep -A1 ${CCP_API_USER} | sed -n 2p`\n",
    "echo ${cluster_uuid} \n",
    "echo ${cluster_uuid} > .clusteruuid\n",
    "\n",
    "# Download our clusters kubeconfig file using UUID\n",
    "curl -k -X GET -b ./temp/cookie.txt https://${CRED_API_IP}/2/clusters/${cluster_uuid}/env > ~/.kube/config"
   ]
  },
  {
   "cell_type": "markdown",
   "metadata": {},
   "source": [
    "### Now we have credentials for our Kubernetes cluster from CCP, we can use the kubernetes API's and CLI's"
   ]
  },
  {
   "cell_type": "code",
   "execution_count": 10,
   "metadata": {
    "scrolled": true
   },
   "outputs": [
    {
     "name": "stdout",
     "output_type": "stream",
     "text": [
      "NAME                             STATUS   ROLES    AGE   VERSION\n",
      "factory-rdrlw-masterbc22702878   Ready    master   4h    v1.11.5\n",
      "factory-rdrlw-worker651db66be2   Ready    <none>   4h    v1.11.5\n",
      "No resources found.\n"
     ]
    }
   ],
   "source": [
    "# See the nodes that make up our factory kubernetes cluster using the Kubernetes CLI\n",
    "! kubectl get nodes\n",
    "\n",
    "# See the current deplo|yment in our edge kubernetes cluster using the Kubernets CLI\n",
    "! kubectl get deployments\n",
    "\n"
   ]
  },
  {
   "cell_type": "markdown",
   "metadata": {},
   "source": [
    "## Kubernetes Deployments \n",
    "\n",
    "Deployments tell kubernetes to run one or more copies of the same Docker container image, known as replicas, they also provide logic to perform \"rolling upgrades\" on deployments with many replicas, allowing to move to a new version of a given containerized application without downtime for the users.\n",
    "\n",
    "We can see the indevidual pods (container instances) powering a given deployment by running `kubectl describe deployment <deployment name>`\n",
    "\n",
    "The deployment we care about is `efm-kinetic-printer1`....\n"
   ]
  },
  {
   "cell_type": "code",
   "execution_count": null,
   "metadata": {
    "scrolled": true
   },
   "outputs": [],
   "source": [
    "# Try inspecting the deployment we want to update (you'll need the name...)\n",
    "! kubectl describe deployment ...\n"
   ]
  },
  {
   "cell_type": "markdown",
   "metadata": {},
   "source": [
    "## Kubernetes Services\n",
    "\n",
    "You may have noticed in the output above, each pod had an internal IP within the kubernetes cluster, this is no good for instances of a single app all running concurrently for resilience and handling load (which is what a `Deployment` construct in kubernetes is designed for!)\n",
    "\n",
    "So we'll need something to put a public/external IP address on the pool of pods and load balance access between them. In kubernetes, these are known as services."
   ]
  },
  {
   "cell_type": "code",
   "execution_count": null,
   "metadata": {},
   "outputs": [],
   "source": [
    "# List the kubernetes service objects in our factory cluster.\n",
    "! kubectl get services"
   ]
  },
  {
   "cell_type": "markdown",
   "metadata": {},
   "source": [
    "We have a few services already, notice our `efm-kinetic-printer1-service` \n",
    "(these names are arbitrary and upto the person automating the deployments and services against the cluster).\n",
    "\n",
    "We can see we have an external IP, we could select just that service as below.."
   ]
  },
  {
   "cell_type": "code",
   "execution_count": null,
   "metadata": {
    "scrolled": true
   },
   "outputs": [],
   "source": [
    "# show just one service\n",
    "! kubectl get service efm-kinetic-printer1-service\n",
    "\n",
    "# We can also ask for kubectl output in JSON, allowing us to filter the bits we want easily!\n",
    "! kubectl get service efm-kinetic-printer1-service -o json | jq -r '.spec.clusterIP'\n",
    "\n",
    "# Now we know howto get the IP, we can easily give you the EFM UI URL for your environment...\n",
    "! echo \"https://`kubectl get service efm-kinetic-printer1-service -o json | jq -r .spec.clusterIP`/dataflow.html\""
   ]
  },
  {
   "cell_type": "markdown",
   "metadata": {},
   "source": [
    "## Access the EFM via it's service IP.\n",
    "\n",
    "Click the URL above to open the EFM UI to see the Cisco Kinetic UI!\n",
    "\n",
    "Log in with User: `EFMAdmin` and Password: `cisco123`.\n",
    "\n",
    "![EFM Login](images/efm-login.png)\n",
    "\n",
    "Drill down into `Downstream > Dataflow` on the left hand side, and press the button next to the `getJobs` item to load the workflow.\n",
    "\n",
    "![Expand Data Collection Items](images/efm-expand.png)\n",
    "\n",
    "Here you will see the data collector polling our 3D Printer for information about its current jobs, you will see the responses coming back if you inspect the `strLoader` object in the diagram.\n",
    "\n",
    "![strLoader object in flow](images/efm-flow.png)"
   ]
  },
  {
   "cell_type": "code",
   "execution_count": null,
   "metadata": {
    "scrolled": false
   },
   "outputs": [],
   "source": []
  },
  {
   "cell_type": "code",
   "execution_count": null,
   "metadata": {},
   "outputs": [],
   "source": []
  },
  {
   "cell_type": "code",
   "execution_count": null,
   "metadata": {},
   "outputs": [],
   "source": []
  },
  {
   "cell_type": "code",
   "execution_count": null,
   "metadata": {},
   "outputs": [],
   "source": []
  },
  {
   "cell_type": "code",
   "execution_count": null,
   "metadata": {},
   "outputs": [],
   "source": []
  }
 ],
 "metadata": {
  "kernelspec": {
   "display_name": "Python 3",
   "language": "python",
   "name": "python3"
  },
  "language_info": {
   "codemirror_mode": {
    "name": "ipython",
    "version": 3
   },
   "file_extension": ".py",
   "mimetype": "text/x-python",
   "name": "python",
   "nbconvert_exporter": "python",
   "pygments_lexer": "ipython3",
   "version": "3.6.8"
  }
 },
 "nbformat": 4,
 "nbformat_minor": 2
}
