{
 "cells": [
  {
   "cell_type": "markdown",
   "metadata": {},
   "source": [
    "# TASK 1\n",
    "\n",
    "## Task: Update a factory automation component\n",
    "\n",
    "Welcome to your first task as the factory automation operator!\n",
    "\n",
    "We currently have a Cisco Kinetic EFM instance running in our factory edge. It's already pulling data from our 3D printer for monitoring and control perposes.\n",
    "\n",
    "<Image of Cisco EFM Designer>\n",
    "\n",
    "We have a new version that provides new features and needed functionality for the business, in our case, a brand new monitoring dashboard for the factory floor team.\n",
    "\n",
    "Lets upgrade our component using the Kubernetes API!\n",
    "\n",
    "## How to play\n",
    "\n",
    "Some input below will be needed, fields may be missing, read the comments to work out what needs completing to sucessfully remediate the issue!\n",
    "\n",
    "To run a block of code below, hold SHIFT+ENTER. \n",
    "NO NEW LINES OF CODE ARE NEEDED, WE'RE NOT THAT MEAN!\n"
   ]
  },
  {
   "cell_type": "code",
   "execution_count": 6,
   "metadata": {
    "scrolled": true
   },
   "outputs": [
    {
     "name": "stdout",
     "output_type": "stream",
     "text": [
      "No resources found.\r\n"
     ]
    }
   ],
   "source": [
    "# See the current deployment in our edge kubernetes cluster using the Kubernets CLI\n",
    "! kubectl get deployments\n",
    "\n"
   ]
  },
  {
   "cell_type": "markdown",
   "metadata": {},
   "source": [
    "## Kubernetes Deployments \n",
    "\n",
    "Deployments tell kubernetes to run one or more copies of the same Docker container image, known as replicas, they also provide logic to perform \"rolling upgrades\" on deployments with many replicas, allowing to move to a new version of a given containerized application without downtime for the users.\n",
    "\n",
    "We can see the indevidual pods (container instances) powering a given deployment by running `kubectl describe deployment <deployment name>`\n",
    "\n",
    "The deployment we care about is `EFM-Kinetic-Printer1`....\n"
   ]
  },
  {
   "cell_type": "code",
   "execution_count": 9,
   "metadata": {
    "scrolled": true
   },
   "outputs": [
    {
     "name": "stdout",
     "output_type": "stream",
     "text": [
      "Error from server (NotFound): deployments.extensions \"...\" not found\r\n"
     ]
    }
   ],
   "source": [
    "# Try inspecting the deployment we want to update (you'll need the name...)\n",
    "! kubectl describe deployment ...\n"
   ]
  },
  {
   "cell_type": "markdown",
   "metadata": {},
   "source": [
    "## Kubernetes Services\n",
    "\n",
    "You may have noticed in the output above, each pod had an internal IP within the kubernetes cluster, this is no good for instances of a single app all running concurrently for resilience and handling load (which is what a `Deployment` construct in kubernetes is designed for!)\n",
    "\n",
    "So we'll need something to put a public/external IP address on the pool of pods and load balance access between them. In kubernetes, these are known as services."
   ]
  },
  {
   "cell_type": "code",
   "execution_count": 28,
   "metadata": {},
   "outputs": [
    {
     "name": "stdout",
     "output_type": "stream",
     "text": [
      "NAME         TYPE        CLUSTER-IP   EXTERNAL-IP   PORT(S)   AGE\r\n",
      "kubernetes   ClusterIP   10.96.0.1    <none>        443/TCP   1h\r\n"
     ]
    }
   ],
   "source": [
    "# List the kubernetes service objects in our factory cluster.\n",
    "! kubectl get services"
   ]
  },
  {
   "cell_type": "markdown",
   "metadata": {},
   "source": [
    "We have a few services already, notice our `EFM-Kinetic-Printer1-Service` \n",
    "(these names are arbitrary and upto the person automating the deployments and services against the cluster).\n",
    "\n",
    "We can see we have an external IP, we could select just that service as below.."
   ]
  },
  {
   "cell_type": "code",
   "execution_count": 29,
   "metadata": {
    "scrolled": true
   },
   "outputs": [
    {
     "name": "stdout",
     "output_type": "stream",
     "text": [
      "Error from server (NotFound): services \"EFM-Kinetic-Printer1-Service\" not found\n",
      "Error from server (NotFound): services \"EFM-Kinetic-Printer1-Service\" not found\n",
      "Error from server (NotFound): services \"EFM-Kinetic-Printer1-Service\" not found\n",
      "https:///dataflow.html\n"
     ]
    }
   ],
   "source": [
    "# show just one service\n",
    "! kubectl get service EFM-Kinetic-Printer1-Service\n",
    "\n",
    "# We can also ask for kubectl output in JSON, allowing us to filter the bits we want easily!\n",
    "! kubectl get service EFM-Kinetic-Printer1-Service -o json | jq -r '.spec.clusterIP'\n",
    "\n",
    "# Now we know howto get the IP, we can easily give you the EFM UI URL for your environment...\n",
    "! echo \"https://`kubectl get service EFM-Kinetic-Printer1-Service -o json | jq -r .spec.clusterIP`/dataflow.html\""
   ]
  },
  {
   "cell_type": "markdown",
   "metadata": {},
   "source": [
    "## Access the EFM via it's service IP.\n",
    "\n",
    "Click the URL above to open the EFM UI to see the Cisco Kinetic UI!\n",
    "\n",
    "Log in with User: `EFMAdmin` and Password: `cisco123`.\n",
    "\n",
    "![~/CHALLENGES/.images/efm-login.png]()\n"
   ]
  },
  {
   "cell_type": "code",
   "execution_count": null,
   "metadata": {
    "scrolled": false
   },
   "outputs": [],
   "source": [
    "%%bash\n",
    "\n",
    "echo \"New cluster info:\"\n",
    "cat ./temp/output.clustercreate | jq -r '.name, .state, .uuid, .ingress_vips[]'"
   ]
  },
  {
   "cell_type": "code",
   "execution_count": null,
   "metadata": {},
   "outputs": [],
   "source": [
    "%%bash\n",
    "\n",
    "# Get current list of users\n",
    "echo \"Current System Users:\"\n",
    "curl -k -b ./temp/cookie.txt https://$MGMT_HOST/2/localusers | jq -r '.[]|.UserName'\n",
    "\n",
    "# Create a user template for our factory\n",
    "cat <<EOF > ./temp/user.json\n",
    "{\n",
    "  \"UserName\": \"${NEW_USER}\",\n",
    "  \"FirstName\": \"\",\n",
    "  \"LastName\": \"\",\n",
    "  \"Password\": \"${NEW_USER_PASSWORD}\",\n",
    "  \"Disable\": false,\n",
    "  \"Role\": \"User\"\n",
    "}\n",
    "EOF\n",
    "\n",
    "# Create local authz template for binding new user to our cluster (no LDAP integration)\n",
    "cat <<EOF > ./temp/auth_local.json\n",
    "{\n",
    "  \"name\": \"${NEW_USER}\",\n",
    "  \"local\": true\n",
    " }\n",
    "\n",
    "EOF\n",
    "\n",
    "# Create New User\n",
    "\n",
    "curl -k -b ./temp/cookie.txt -H \"Content-Type:application/json\" -X POST -d @./temp/user.json https://$MGMT_HOST/2/localusers\n",
    "\n",
    "echo \"Current System Users after create:\"\n",
    "curl -k -b ./temp/cookie.txt https://$MGMT_HOST/2/localusers | jq -r '.[]|.UserName'\n",
    "\n",
    "\n",
    "echo \"Get the cluster UUID for ${NEW_CLUSTER_NAME} :\"\n",
    "cluster_uuid=`curl -k -b ./temp/cookie.txt https://$MGMT_HOST/2/clusters| jq -r '.[]|.name, .uuid' | grep -A1 ${NEW_CLUSTER_NAME} | sed -n 2p`\n",
    "echo ${cluster_uuid} \n",
    "echo ${cluster_uuid} > .clusteruuid\n",
    "cat .clusteruuid\n",
    "\n",
    "echo \"Add user binding to cluster using UUID...\"\n",
    "curl -sk -b ./temp/cookie.txt -X POST -H \"Content-Type: application/json\" -d @./temp/auth_local.json https://$MGMT_HOST/2/clusters/${cluster_uuid}/authz\n",
    "\n",
    "\n"
   ]
  },
  {
   "cell_type": "code",
   "execution_count": null,
   "metadata": {},
   "outputs": [],
   "source": [
    "%%bash\n",
    "# Switching API context to new user.\n",
    "# Pulling KubeConfig and Kubernetes API endpoint details\n",
    "\n",
    "rm -Rf ./temp ~/.kube\n",
    "mkdir ./temp ~/.kube/\n",
    "cluster_uuid=`cat .clusteruuid`\n",
    "\n",
    "# Auth to API as new user, get auth token as cookie.\"\n",
    "curl -k -c ./temp/cookie.txt -H \"Content-Type:application/x-www-form-urlencoded\" -d \"username=${NEW_USER}&password=${NEW_USER_PASSWORD}\" https://$MGMT_HOST/2/system/login/\n",
    "\n",
    "# Download our clusters kubeconfig file\n",
    "curl -k -X GET -b ./temp/cookie.txt https://${MGMT_HOST}/2/clusters/${cluster_uuid}/env > ~/.kube/config"
   ]
  },
  {
   "cell_type": "code",
   "execution_count": null,
   "metadata": {},
   "outputs": [],
   "source": [
    "# Test Kubeconfig access to Kubernetes Cluster\n",
    "! kubectl get nodes\n"
   ]
  },
  {
   "cell_type": "code",
   "execution_count": null,
   "metadata": {},
   "outputs": [],
   "source": []
  }
 ],
 "metadata": {
  "kernelspec": {
   "display_name": "Python 3",
   "language": "python",
   "name": "python3"
  },
  "language_info": {
   "codemirror_mode": {
    "name": "ipython",
    "version": 3
   },
   "file_extension": ".py",
   "mimetype": "text/x-python",
   "name": "python",
   "nbconvert_exporter": "python",
   "pygments_lexer": "ipython3",
   "version": "3.6.8"
  }
 },
 "nbformat": 4,
 "nbformat_minor": 2
}
